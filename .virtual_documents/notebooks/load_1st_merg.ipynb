import pandas as pd

test_customers_df = pd.read_csv("/Users/dejmen/desktop/ironhack/week8/day1/ecommerce_analysis/data/raw/test/df_Customers.csv")
test_order_items_df = pd.read_csv("/Users/dejmen/desktop/ironhack/week8/day1/ecommerce_analysis/data/raw/test/df_OrderItems.csv")
test_orders_df = pd.read_csv("/Users/dejmen/desktop/ironhack/week8/day1/ecommerce_analysis/data/raw/test/df_Orders.csv")
test_payments_df = pd.read_csv("/Users/dejmen/desktop/ironhack/week8/day1/ecommerce_analysis/data/raw/test/df_Payments.csv")
test_products_df = pd.read_csv("/Users/dejmen/desktop/ironhack/week8/day1/ecommerce_analysis/data/raw/test/df_Products.csv")

train_customers_df = pd.read_csv("/Users/dejmen/desktop/ironhack/week8/day1/ecommerce_analysis/data/raw/train/df_Customers.csv")
train_order_items_df = pd.read_csv("/Users/dejmen/desktop/ironhack/week8/day1/ecommerce_analysis/data/raw/train/df_OrderItems.csv")
train_orders_df = pd.read_csv("/Users/dejmen/desktop/ironhack/week8/day1/ecommerce_analysis/data/raw/train/df_Orders.csv")
train_payments_df = pd.read_csv("/Users/dejmen/desktop/ironhack/week8/day1/ecommerce_analysis/data/raw/train/df_Payments.csv")
train_products_df = pd.read_csv("/Users/dejmen/desktop/ironhack/week8/day1/ecommerce_analysis/data/raw/train/df_Products.csv")


test_customers_df.head()


train_customers_df.head()


test_customers_df.shape


train_customers_df.shape


# Merge test + train
merged_customers_df = pd.concat([train_customers_df, test_customers_df], ignore_index=True)
merged_order_items_df = pd.concat([train_order_items_df, test_order_items_df], ignore_index=True)
merged_orders_df = pd.concat([train_orders_df, test_orders_df], ignore_index=True)
merged_payments_df = pd.concat([train_payments_df, test_payments_df], ignore_index=True)
merged_products_df = pd.concat([train_products_df, test_products_df], ignore_index=True)

print("Data Merged:")
print(f"Customers:       {merged_customers_df.shape}")
print(f"Order Items:     {merged_order_items_df.shape}")
print(f"Orders:          {merged_orders_df.shape}")
print(f"Payments:        {merged_payments_df.shape}")
print(f"Products:        {merged_products_df.shape}")


# Save each merged DataFrame
merged_customers_df.to_csv("/Users/dejmen/desktop/ironhack/week8/day1/ecommerce_analysis/data/raw/processed/merged_customers.csv", index=False)
merged_order_items_df.to_csv("/Users/dejmen/desktop/ironhack/week8/day1/ecommerce_analysis/data/raw/processed/merged_order_items.csv", index=False)
merged_orders_df.to_csv("/Users/dejmen/desktop/ironhack/week8/day1/ecommerce_analysis/data/raw/processed/merged_orders.csv", index=False)
merged_payments_df.to_csv("/Users/dejmen/desktop/ironhack/week8/day1/ecommerce_analysis/data/raw/processed/merged_payments.csv", index=False)
merged_products_df.to_csv("/Users/dejmen/desktop/ironhack/week8/day1/ecommerce_analysis/data/raw/processed/merged_products.csv", index=False)

print("All merged CSVs saved to 'data/processed/' folder.")




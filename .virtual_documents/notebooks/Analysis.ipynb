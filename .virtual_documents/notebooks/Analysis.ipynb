import pandas as pd

df = pd.read_csv("/Users/dejmen/desktop/ironhack/week8/day1/ecommerce_analysis/data/clean/ecommerce_merged_dataset.csv")
df.head(10)


1. What is the average delivery time across regions, and which areas face the longest delays?


average_delivery_by_state.reset_index()


import matplotlib.pyplot as plt

# Plot average delivery time per region
average_delivery_by_state.plot(kind='bar', figsize=(12,6), color='skyblue')
plt.title('Average Delivery Time by Region')
plt.xlabel('Customer State')
plt.ylabel('Average Delivery Days')
plt.xticks(rotation=45)
plt.tight_layout()
plt.show()





2. Which product categories contribute most to shipping costs?



# Group by product category and calculate total shipping cost
shipping_by_category = (
    df.groupby("product_category_name")["shipping_charges"]
    .sum()
    .sort_values(ascending=False)
    .reset_index()
)

# Round shipping costs for presentation
shipping_by_category["shipping_charges"] = shipping_by_category["shipping_charges"].round(2)

# Display top 10 categories
print(shipping_by_category.head(10))



import matplotlib.pyplot as plt

top_n = 10
plt.figure(figsize=(12, 6))
plt.barh(shipping_by_category.head(top_n)["product_category_name"], 
         shipping_by_category.head(top_n)["shipping_charges"], color='skyblue')
plt.xlabel("Total Shipping Charges")
plt.ylabel("Product Category")
plt.title(f"Top {top_n} Product Categories by Shipping Cost")
plt.gca().invert_yaxis()
plt.tight_layout()
plt.show()


3. How do different payment types relate to total order value or frequency?


# Define payment types in a list
payment_types = ['paytype_credit_card', 'paytype_debit_card', 'paytype_voucher', 'paytype_wallet']

# Create an empty list to collect results
results = []

for ptype in payment_types:
    total_orders = df[ptype].sum()
    avg_order_value = df.loc[df[ptype] == 1, 'payment_value'].mean()
    results.append({
        'Payment Type': ptype.replace('paytype_', '').replace('_', ' ').title(),
        'Frequency (Orders)': int(total_orders),
        'Average Order Value': round(avg_order_value, 2)
    })

# Create a DataFrame from the results
payment_summary_df = pd.DataFrame(results)

# Display
print(payment_summary_df)



import matplotlib.pyplot as plt

plt.figure(figsize=(8, 5))
plt.bar(payment_summary_df["Payment Type"], payment_summary_df["Frequency (Orders)"], color='mediumseagreen')
plt.title("Frequency of Payment Types")
plt.xlabel("Payment Type")
plt.ylabel("Number of Orders")
plt.tight_layout()
plt.show()


plt.figure(figsize=(8, 5))
plt.bar(payment_summary_df["Payment Type"], payment_summary_df["Average Order Value"], color='cornflowerblue')
plt.title("Average Order Value by Payment Type")
plt.xlabel("Payment Type")
plt.ylabel("Average Order Value")
plt.tight_layout()
plt.show()


4. What is the proportion of revenue spent on shipping, and how does it vary by product or customer location?


# Filter to avoid division by zero or nulls
df = df[(df['price'] > 0) & (df['shipping_charges'].notna())]

# Calculate proportion of revenue spent on shipping
df['shipping_ratio'] = df['shipping_charges'] / df['price']

# Group by product category
by_category = df.groupby('product_category_name')['shipping_ratio'].mean().sort_values(ascending=False).round(2)

# Group by customer state
by_state = df.groupby('customer_state')['shipping_ratio'].mean().sort_values(ascending=False).round(2)


import matplotlib.pyplot as plt

by_category.head(10).plot(kind='bar', figsize=(10, 5), color='coral')
plt.title("Top 10 Product Categories by Shipping-to-Price Ratio")
plt.ylabel("Shipping Ratio")
plt.xlabel("Product Category")
plt.tight_layout()
plt.show()


5. Which sellers or product categories deliver the highest profit margins after accounting for shipping costs?


# Filter out missing or invalid data
df = df[(df['price'].notna()) & (df['shipping_charges'].notna())]

# Calculate profit per order item
df['profit'] = df['price'] - df['shipping_charges']

# Average profit by product category
avg_profit_by_category = df.groupby('product_category_name')['profit'].mean().sort_values(ascending=False).round(2)

# Average profit by seller
avg_profit_by_seller = df.groupby('seller_id')['profit'].mean().sort_values(ascending=False).round(2)

# Optional: show top 10
print("Top 10 Product Categories by Profit:")
print(avg_profit_by_category.head(10))

print("\nTop 10 Sellers by Profit:")
print(avg_profit_by_seller.head(10))



# Bar chart of top product categories
avg_profit_by_category.head(10).plot(kind='bar', figsize=(10,5), color='mediumseagreen')
plt.title("Top 10 Product Categories by Average Profit")
plt.ylabel("Profit (Price - Shipping)")
plt.xlabel("Product Category")
plt.tight_layout()
plt.show()




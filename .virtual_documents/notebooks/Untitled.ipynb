import pandas as pd

customers_df = pd.read_csv("/Users/dejmen/desktop/ironhack/week8/day1/ecommerce_analysis/data/raw/processed/merged_Customers.csv")
order_items_df = pd.read_csv("/Users/dejmen/desktop/ironhack/week8/day1/ecommerce_analysis/data/raw/processed/merged_Order_Items.csv")
orders_df = pd.read_csv("/Users/dejmen/desktop/ironhack/week8/day1/ecommerce_analysis/data/raw/processed/merged_Orders.csv")
payments_df = pd.read_csv("/Users/dejmen/desktop/ironhack/week8/day1/ecommerce_analysis/data/raw/processed/merged_Payments.csv")
products_df = pd.read_csv("/Users/dejmen/desktop/ironhack/week8/day1/ecommerce_analysis/data/raw/processed/merged_Products.csv")


customers_df.head(10)


order_items_df.head(10)


orders_df.head(10)


payments_df.head(10)


products_df.head(10)




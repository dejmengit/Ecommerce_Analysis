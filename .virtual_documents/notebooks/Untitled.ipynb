import pandas as pd

customers_df = pd.read_csv("/Users/dejmen/desktop/ironhack/week8/day1/ecommerce_analysis/data/raw/processed/merged_Customers.csv")
order_items_df = pd.read_csv("/Users/dejmen/desktop/ironhack/week8/day1/ecommerce_analysis/data/raw/processed/merged_Order_Items.csv")
orders_df = pd.read_csv("/Users/dejmen/desktop/ironhack/week8/day1/ecommerce_analysis/data/raw/processed/merged_Orders.csv")
payments_df = pd.read_csv("/Users/dejmen/desktop/ironhack/week8/day1/ecommerce_analysis/data/raw/processed/merged_Payments.csv")
products_df = pd.read_csv("/Users/dejmen/desktop/ironhack/week8/day1/ecommerce_analysis/data/raw/processed/merged_Products.csv")


customers_df.head(10)


order_items_df.head(10)


orders_df.head(10)


payments_df.head(10)


products_df.head(10)


# checking the data types
print("Customers DataFrame:")
print(customers_df.dtypes)
print("\nOrderItems DataFrame:")
print(order_items_df.dtypes)
print("\nOrders DataFrame:")
print(orders_df.dtypes)
print("\nPayments DataFrame:")
print(payments_df.dtypes)
print("\nProducts DataFrame:")
print(products_df.dtypes)


#check for missing values in all DF's
dataframes = {
    "customers_df": customers_df,
    "order_items_df": order_items_df,
    "orders_df": orders_df,
    "payments_df": payments_df,
    "products_df": products_df
}

for name, df in dataframes.items():
    print(f"\n{name} - Null Values:")
    print(df.isnull().sum())


# standardize column names- lowercase
customers_df.columns = customers_df.columns.str.lower()
customers_df.head(5)


# Check for negative or zero values
print(order_items_df[order_items_df['price'] <= 0])
print(order_items_df[order_items_df['shipping_charges'] < 0])

# Remove invalid rows
order_items_df = order_items_df[(order_items_df['price'] > 0) & (order_items_df['shipping_charges'] >= 0)]

# Handle outliers using IQR
for col in ['price', 'shipping_charges']:
    Q1 = order_items_df[col].quantile(0.25)
    Q3 = order_items_df[col].quantile(0.75)
    IQR = Q3 - Q1
    lower = Q1 - 1.5 * IQR
    upper = Q3 + 1.5 * IQR
    order_items_df = order_items_df[(order_items_df[col] >= lower) & (order_items_df[col] <= upper)]


# Convert timestamp columns to datetime
orders_df['order_purchase_timestamp'] = pd.to_datetime(orders_df['order_purchase_timestamp'])
orders_df['order_approved_at'] = pd.to_datetime(orders_df['order_approved_at'], errors='coerce')
orders_df['order_delivered_timestamp'] = pd.to_datetime(orders_df['order_delivered_timestamp'], errors='coerce')
orders_df['order_estimated_delivery_date'] = pd.to_datetime(orders_df['order_estimated_delivery_date'], errors='coerce')

# Check missing values
orders_df.isnull().sum()

# Filter to completed deliveries
delivered_orders_df = orders_df.dropna(subset=['order_delivered_timestamp', 'order_estimated_delivery_date'])

delivered_orders_df.head(5)


orders_df.head(5)


# Normalize payment types to lowercase
payments_df['payment_type'] = payments_df['payment_type'].str.lower()

# Group rare payment types
rare_types = payments_df['payment_type'].value_counts()[payments_df['payment_type'].value_counts() < 100].index
payments_df['payment_type'] = payments_df['payment_type'].replace(rare_types, 'other')
payments_df.head(5)


# Fill missing category as 'unknown'
products_df['product_category_name'] = products_df['product_category_name'].fillna('unknown')

# Drop rows with missing dimensions
products_df = products_df.dropna(subset=['product_weight_g', 'product_length_cm', 'product_height_cm', 'product_width_cm'])
products_df


# type casting and feature selection

# ZIP code as string
customers_df['customer_zip_code_prefix'] = customers_df['customer_zip_code_prefix'].astype(str)

# Convert datetime columns
orders_df['order_purchase_timestamp'] = pd.to_datetime(orders_df['order_purchase_timestamp'])
orders_df['order_approved_at'] = pd.to_datetime(orders_df['order_approved_at'], errors='coerce')
orders_df['order_delivered_timestamp'] = pd.to_datetime(orders_df['order_delivered_timestamp'], errors='coerce')
orders_df['order_estimated_delivery_date'] = pd.to_datetime(orders_df['order_estimated_delivery_date'], errors='coerce')

# Remove duplicates if there are any
customers_df.drop_duplicates(inplace=True)
orders_df.drop_duplicates(inplace=True)
order_items_df.drop_duplicates(inplace=True)
payments_df.drop_duplicates(inplace=True)
products_df.drop_duplicates(inplace=True)


# Convert Categorical to Numerical

# One-hot encoding for payment_type
payments_df = pd.get_dummies(payments_df, columns=['payment_type'], prefix='paytype')

# Convert customer_state to numeric codes
customers_df['customer_state_code'] = customers_df['customer_state'].astype('category').cat.codes


# Statistical Methods for Analysis

# Correlation between price and shipping
correlation = order_items_df[['price', 'shipping_charges']].corr()
print("Price ↔ Shipping Charges Correlation:\n", correlation)

# Average delivery time in days
orders_df['delivery_days'] = (orders_df['order_delivered_timestamp'] - orders_df['order_purchase_timestamp']).dt.days
avg_delivery = orders_df['delivery_days'].mean()
print(f"\n Average delivery time: {avg_delivery:.2f} days")



orders_df.isnull().sum()


orders_df_clean = orders_df.dropna(subset=['order_delivered_timestamp', 'order_estimated_delivery_date'])
orders_df_clean.isnull().sum()


# Drop unnecessary columns from each df

# 1. Orders DataFrame
orders_df_cleaned = orders_df.drop(columns=["order_approved_at"])

# 2. Customers DataFrame
customers_df_cleaned = customers_df.drop(columns=["customer_state_code"])

# 3. Order Items DataFrame (no columns to drop)
order_items_df_cleaned = order_items_df.copy()

# 4. Products DataFrame (keep all columns for now)
products_df_cleaned = products_df.copy()

# 5. Payments DataFrame
payments_df_cleaned = payments_df.drop(columns=["payment_sequential", "payment_installments"])



orders_df_cleaned.head(3)














# orders_df_cleaned.to_csv("cleaned_orders.csv", index=False)
# customers_df_cleaned.to_csv("cleaned_customers.csv", index=False)
# order_items_df_cleaned.to_csv("cleaned_order_items.csv", index=False)
# products_df_cleaned.to_csv("cleaned_products.csv", index=False)
# payments_df_cleaned.to_csv("cleaned_payments.csv", index=False)




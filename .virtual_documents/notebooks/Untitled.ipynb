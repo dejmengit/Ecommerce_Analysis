import pandas as pd
import matplotlib.pyplot as plt
import seaborn as sns

# Load dataset
df = pd.read_csv("/Users/dejmen/desktop/ironhack/week8/day1/ecommerce_analysis/data/clean/ecommerce_merged_dataset.csv")

# 1️⃣ Question 1: Heatmap (Average Delivery Time by Region)
avg_delivery_by_state = df.groupby("customer_state")["delivery_days"].mean().reset_index()
avg_delivery_by_state = avg_delivery_by_state.sort_values("delivery_days", ascending=False)

plt.figure(figsize=(10, 6))
sns.heatmap(avg_delivery_by_state.pivot_table(values="delivery_days", index="customer_state"),
            annot=True, cmap="Reds", fmt=".1f", cbar_kws={'label': 'Avg Delivery Days'})
plt.title("Average Delivery Time by State (Heatmap)")
plt.ylabel("State")
plt.xlabel("")
plt.tight_layout()
plt.show()

# 3️⃣ Question 3: Clustered Bar Chart (Payment type frequency & avg order value)
payment_types = ['paytype_credit_card', 'paytype_debit_card', 'paytype_voucher', 'paytype_wallet']
payment_summary = []

for ptype in payment_types:
    total_orders = df[ptype].sum()
    avg_order_value = df.loc[df[ptype] == 1, 'payment_value'].mean()
    payment_summary.append([ptype.replace('paytype_', '').title(), total_orders, avg_order_value])

payment_df = pd.DataFrame(payment_summary, columns=["Payment Type", "Frequency", "Avg Order Value"])

fig, ax1 = plt.subplots(figsize=(8, 6))
width = 0.35
x = range(len(payment_df))

ax1.bar([i - width/2 for i in x], payment_df["Frequency"], width=width, label="Frequency", color="skyblue")
ax1.set_ylabel("Frequency", color="skyblue")

ax2 = ax1.twinx()
ax2.bar([i + width/2 for i in x], payment_df["Avg Order Value"], width=width, label="Avg Order Value", color="salmon")
ax2.set_ylabel("Avg Order Value", color="salmon")

ax1.set_xticks(x)
ax1.set_xticklabels(payment_df["Payment Type"])
plt.title("Payment Types: Frequency vs Avg Order Value")
plt.tight_layout()
plt.show()

# 4️⃣ Question 4: Bubble Chart (Revenue spent on shipping)
df_filtered = df[(df['price'] > 0) & (df['shipping_charges'].notna())]
df_filtered['shipping_ratio'] = df_filtered['shipping_charges'] / df_filtered['price']

plt.figure(figsize=(10, 6))
plt.scatter(df_filtered["price"], df_filtered["shipping_charges"],
            s=df_filtered["shipping_ratio"] * 500,  # bubble size
            alpha=0.5, c=df_filtered["shipping_ratio"], cmap="coolwarm")
plt.colorbar(label="Shipping Ratio")
plt.xlabel("Product Price")
plt.ylabel("Shipping Charges")
plt.title("Bubble Chart: Revenue Spent on Shipping")
plt.tight_layout()
plt.show()

# 5️⃣ Question 5: Boxplot (Profit margin variation by category)
df["profit"] = df["price"] - df["shipping_charges"]
plt.figure(figsize=(12, 6))
sns.boxplot(x="product_category_name", y="profit", data=df)
plt.xticks(rotation=90)
plt.title("Profit Margin Variation by Product Category")
plt.tight_layout()
plt.show()



import pandas as pd

# Keep only the needed columns
columns_to_keep = [
    'order_id', 'customer_id', 'order_status', 'order_purchase_timestamp',
    'order_delivered_timestamp', 'order_estimated_delivery_date', 'delivery_days',
    'customer_city', 'customer_state',
    'product_id', 'product_category_name', 'product_weight_g', 'product_length_cm',
    'product_height_cm', 'product_width_cm',
    'seller_id', 'price', 'shipping_charges',
    'payment_value', 'paytype_credit_card', 'paytype_debit_card',
    'paytype_voucher', 'paytype_wallet'
]
df = df[columns_to_keep]

# Create calculated fields
df['profit_margin'] = (df['price'] - df['shipping_charges']) / df['price']
df['shipping_ratio'] = df['shipping_charges'] / df['price']

# Create payment_type column
def payment_type(row):
    if row['paytype_credit_card'] == 1:
        return 'Credit Card'
    elif row['paytype_debit_card'] == 1:
        return 'Debit Card'
    elif row['paytype_voucher'] == 1:
        return 'Voucher'
    elif row['paytype_wallet'] == 1:
        return 'Wallet'
    else:
        return 'Other'

df['payment_type'] = df.apply(payment_type, axis=1)

# Convert date columns to datetime
date_cols = ['order_purchase_timestamp', 'order_delivered_timestamp', 'order_estimated_delivery_date']
for col in date_cols:
    df[col] = pd.to_datetime(df[col], errors='coerce').dt.date

# Save Tableau-ready CSV
df.to_csv("ecommerce_tableau_ready.csv", index=False)

print("✅ Tableau-ready dataset saved as ecommerce_tableau_ready.csv")





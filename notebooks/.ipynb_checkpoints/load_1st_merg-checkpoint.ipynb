{
 "cells": [
  {
   "cell_type": "code",
   "execution_count": 1,
   "id": "7ded540b-914c-4a27-9894-a6ca586fbfe5",
   "metadata": {},
   "outputs": [],
   "source": [
    "import pandas as pd\n",
    "\n",
    "test_customers_df = pd.read_csv(\"/Users/dejmen/desktop/ironhack/week8/day1/ecommerce_analysis/data/raw/test/df_Customers.csv\")\n",
    "test_order_items_df = pd.read_csv(\"/Users/dejmen/desktop/ironhack/week8/day1/ecommerce_analysis/data/raw/test/df_OrderItems.csv\")\n",
    "test_orders_df = pd.read_csv(\"/Users/dejmen/desktop/ironhack/week8/day1/ecommerce_analysis/data/raw/test/df_Orders.csv\")\n",
    "test_payments_df = pd.read_csv(\"/Users/dejmen/desktop/ironhack/week8/day1/ecommerce_analysis/data/raw/test/df_Payments.csv\")\n",
    "test_products_df = pd.read_csv(\"/Users/dejmen/desktop/ironhack/week8/day1/ecommerce_analysis/data/raw/test/df_Products.csv\")\n",
    "\n",
    "train_customers_df = pd.read_csv(\"/Users/dejmen/desktop/ironhack/week8/day1/ecommerce_analysis/data/raw/train/df_Customers.csv\")\n",
    "train_order_items_df = pd.read_csv(\"/Users/dejmen/desktop/ironhack/week8/day1/ecommerce_analysis/data/raw/train/df_OrderItems.csv\")\n",
    "train_orders_df = pd.read_csv(\"/Users/dejmen/desktop/ironhack/week8/day1/ecommerce_analysis/data/raw/train/df_Orders.csv\")\n",
    "train_payments_df = pd.read_csv(\"/Users/dejmen/desktop/ironhack/week8/day1/ecommerce_analysis/data/raw/train/df_Payments.csv\")\n",
    "train_products_df = pd.read_csv(\"/Users/dejmen/desktop/ironhack/week8/day1/ecommerce_analysis/data/raw/train/df_Products.csv\")"
   ]
  },
  {
   "cell_type": "code",
   "execution_count": 2,
   "id": "27215916-8a49-4cee-b39b-be945d0a8b83",
   "metadata": {},
   "outputs": [
    {
     "data": {
      "text/html": [
       "<div>\n",
       "<style scoped>\n",
       "    .dataframe tbody tr th:only-of-type {\n",
       "        vertical-align: middle;\n",
       "    }\n",
       "\n",
       "    .dataframe tbody tr th {\n",
       "        vertical-align: top;\n",
       "    }\n",
       "\n",
       "    .dataframe thead th {\n",
       "        text-align: right;\n",
       "    }\n",
       "</style>\n",
       "<table border=\"1\" class=\"dataframe\">\n",
       "  <thead>\n",
       "    <tr style=\"text-align: right;\">\n",
       "      <th></th>\n",
       "      <th>customer_id</th>\n",
       "      <th>customer_zip_code_prefix</th>\n",
       "      <th>customer_city</th>\n",
       "      <th>customer_state</th>\n",
       "    </tr>\n",
       "  </thead>\n",
       "  <tbody>\n",
       "    <tr>\n",
       "      <th>0</th>\n",
       "      <td>I74lXDOfoqsp</td>\n",
       "      <td>6020</td>\n",
       "      <td>goiania</td>\n",
       "      <td>GO</td>\n",
       "    </tr>\n",
       "    <tr>\n",
       "      <th>1</th>\n",
       "      <td>47TuLHF2s7X5</td>\n",
       "      <td>23020</td>\n",
       "      <td>viamao</td>\n",
       "      <td>RS</td>\n",
       "    </tr>\n",
       "    <tr>\n",
       "      <th>2</th>\n",
       "      <td>dQ0dqI8Qwlj8</td>\n",
       "      <td>75094</td>\n",
       "      <td>campinas</td>\n",
       "      <td>SP</td>\n",
       "    </tr>\n",
       "    <tr>\n",
       "      <th>3</th>\n",
       "      <td>iQCmWhNkIczb</td>\n",
       "      <td>89284</td>\n",
       "      <td>santana de parnaiba</td>\n",
       "      <td>SP</td>\n",
       "    </tr>\n",
       "    <tr>\n",
       "      <th>4</th>\n",
       "      <td>Dp2g6JH8tO5Z</td>\n",
       "      <td>39810</td>\n",
       "      <td>aripuana</td>\n",
       "      <td>MT</td>\n",
       "    </tr>\n",
       "  </tbody>\n",
       "</table>\n",
       "</div>"
      ],
      "text/plain": [
       "    customer_id  customer_zip_code_prefix        customer_city customer_state\n",
       "0  I74lXDOfoqsp                      6020              goiania             GO\n",
       "1  47TuLHF2s7X5                     23020               viamao             RS\n",
       "2  dQ0dqI8Qwlj8                     75094             campinas             SP\n",
       "3  iQCmWhNkIczb                     89284  santana de parnaiba             SP\n",
       "4  Dp2g6JH8tO5Z                     39810             aripuana             MT"
      ]
     },
     "execution_count": 2,
     "metadata": {},
     "output_type": "execute_result"
    }
   ],
   "source": [
    "test_customers_df.head()"
   ]
  },
  {
   "cell_type": "code",
   "execution_count": 3,
   "id": "95303502-e6bf-4f96-8f8b-47e938ed7c14",
   "metadata": {},
   "outputs": [
    {
     "data": {
      "text/html": [
       "<div>\n",
       "<style scoped>\n",
       "    .dataframe tbody tr th:only-of-type {\n",
       "        vertical-align: middle;\n",
       "    }\n",
       "\n",
       "    .dataframe tbody tr th {\n",
       "        vertical-align: top;\n",
       "    }\n",
       "\n",
       "    .dataframe thead th {\n",
       "        text-align: right;\n",
       "    }\n",
       "</style>\n",
       "<table border=\"1\" class=\"dataframe\">\n",
       "  <thead>\n",
       "    <tr style=\"text-align: right;\">\n",
       "      <th></th>\n",
       "      <th>customer_id</th>\n",
       "      <th>customer_zip_code_prefix</th>\n",
       "      <th>customer_city</th>\n",
       "      <th>customer_state</th>\n",
       "    </tr>\n",
       "  </thead>\n",
       "  <tbody>\n",
       "    <tr>\n",
       "      <th>0</th>\n",
       "      <td>hCT0x9JiGXBQ</td>\n",
       "      <td>58125</td>\n",
       "      <td>varzea paulista</td>\n",
       "      <td>SP</td>\n",
       "    </tr>\n",
       "    <tr>\n",
       "      <th>1</th>\n",
       "      <td>PxA7fv9spyhx</td>\n",
       "      <td>3112</td>\n",
       "      <td>armacao dos buzios</td>\n",
       "      <td>RJ</td>\n",
       "    </tr>\n",
       "    <tr>\n",
       "      <th>2</th>\n",
       "      <td>g3nXeJkGI0Qw</td>\n",
       "      <td>4119</td>\n",
       "      <td>jandira</td>\n",
       "      <td>SP</td>\n",
       "    </tr>\n",
       "    <tr>\n",
       "      <th>3</th>\n",
       "      <td>EOEsCQ6QlpIg</td>\n",
       "      <td>18212</td>\n",
       "      <td>uberlandia</td>\n",
       "      <td>MG</td>\n",
       "    </tr>\n",
       "    <tr>\n",
       "      <th>4</th>\n",
       "      <td>mVz5LO2Vd6cL</td>\n",
       "      <td>88868</td>\n",
       "      <td>ilhabela</td>\n",
       "      <td>SP</td>\n",
       "    </tr>\n",
       "  </tbody>\n",
       "</table>\n",
       "</div>"
      ],
      "text/plain": [
       "    customer_id  customer_zip_code_prefix       customer_city customer_state\n",
       "0  hCT0x9JiGXBQ                     58125     varzea paulista             SP\n",
       "1  PxA7fv9spyhx                      3112  armacao dos buzios             RJ\n",
       "2  g3nXeJkGI0Qw                      4119             jandira             SP\n",
       "3  EOEsCQ6QlpIg                     18212          uberlandia             MG\n",
       "4  mVz5LO2Vd6cL                     88868            ilhabela             SP"
      ]
     },
     "execution_count": 3,
     "metadata": {},
     "output_type": "execute_result"
    }
   ],
   "source": [
    "train_customers_df.head()"
   ]
  },
  {
   "cell_type": "code",
   "execution_count": 5,
   "id": "bfd20daf-6847-4943-91c1-1c93acbd6598",
   "metadata": {},
   "outputs": [
    {
     "data": {
      "text/plain": [
       "(38279, 4)"
      ]
     },
     "execution_count": 5,
     "metadata": {},
     "output_type": "execute_result"
    }
   ],
   "source": [
    "test_customers_df.shape"
   ]
  },
  {
   "cell_type": "code",
   "execution_count": 7,
   "id": "5bf0c62f-dee5-467b-bf4a-d979097dda7c",
   "metadata": {},
   "outputs": [
    {
     "data": {
      "text/plain": [
       "(89316, 4)"
      ]
     },
     "execution_count": 7,
     "metadata": {},
     "output_type": "execute_result"
    }
   ],
   "source": [
    "train_customers_df.shape"
   ]
  },
  {
   "cell_type": "code",
   "execution_count": 10,
   "id": "61c15ab3-2ce2-4873-868f-5f3a497e53bc",
   "metadata": {},
   "outputs": [
    {
     "name": "stdout",
     "output_type": "stream",
     "text": [
      "Data Merged:\n",
      "Customers:       (127595, 4)\n",
      "Order Items:     (127595, 5)\n",
      "Orders:          (127595, 7)\n",
      "Payments:        (127595, 5)\n",
      "Products:        (127595, 6)\n"
     ]
    }
   ],
   "source": [
    "# Merge test + train\n",
    "merged_customers_df = pd.concat([train_customers_df, test_customers_df], ignore_index=True)\n",
    "merged_order_items_df = pd.concat([train_order_items_df, test_order_items_df], ignore_index=True)\n",
    "merged_orders_df = pd.concat([train_orders_df, test_orders_df], ignore_index=True)\n",
    "merged_payments_df = pd.concat([train_payments_df, test_payments_df], ignore_index=True)\n",
    "merged_products_df = pd.concat([train_products_df, test_products_df], ignore_index=True)\n",
    "\n",
    "print(\"Data Merged:\")\n",
    "print(f\"Customers:       {merged_customers_df.shape}\")\n",
    "print(f\"Order Items:     {merged_order_items_df.shape}\")\n",
    "print(f\"Orders:          {merged_orders_df.shape}\")\n",
    "print(f\"Payments:        {merged_payments_df.shape}\")\n",
    "print(f\"Products:        {merged_products_df.shape}\")"
   ]
  },
  {
   "cell_type": "code",
   "execution_count": null,
   "id": "9832a686-b507-4d8c-bd90-e5777b3b3aa3",
   "metadata": {},
   "outputs": [],
   "source": []
  }
 ],
 "metadata": {
  "kernelspec": {
   "display_name": "venv",
   "language": "python",
   "name": "venv"
  },
  "language_info": {
   "codemirror_mode": {
    "name": "ipython",
    "version": 3
   },
   "file_extension": ".py",
   "mimetype": "text/x-python",
   "name": "python",
   "nbconvert_exporter": "python",
   "pygments_lexer": "ipython3",
   "version": "3.12.2"
  }
 },
 "nbformat": 4,
 "nbformat_minor": 5
}
